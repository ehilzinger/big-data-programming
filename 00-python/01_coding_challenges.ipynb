{
 "cells": [
  {
   "cell_type": "markdown",
   "metadata": {},
   "source": [
    "1. **Sort an Array**  \n",
    "   Write a function to sort an array of numbers.  \n",
    "   **Hint 1:** Explore Python’s built-in sorting functions.  \n",
    "   **Hint 2:** Arrays can be sorted either in ascending or descending order.\n",
    "\n",
    "2. **Reverse a String**  \n",
    "   Write a function that reverses a string.  \n",
    "   **Hint 1:** Strings can be indexed like arrays.  \n",
    "   **Hint 2:** Try using slicing to reverse the string.\n",
    "\n",
    "3. **FizzBuzz**  \n",
    "   Write a function to print numbers from 1 to 100 with Fizz for multiples of 3, Buzz for multiples of 5, and FizzBuzz for both.  \n",
    "   **Hint 1:** Use modulo (`%`) to check for multiples.  \n",
    "   **Hint 2:** Use `if`, `elif`, and `else` for conditions.\n",
    "\n",
    "4. **Sum of Array Elements**  \n",
    "   Write a function to sum all elements in an array.  \n",
    "   **Hint 1:** Loops can help to accumulate values.  \n",
    "   **Hint 2:** Alternatively, Python offers built-in functions for summation.\n",
    "\n",
    "5. **Palindrome Check**  \n",
    "   Write a function to check if a string is a palindrome.  \n",
    "   **Hint 1:** A string reads the same forward and backward if it’s a palindrome.  \n",
    "   **Hint 2:** Compare the string with its reversed version.\n",
    "\n",
    "6. **Factorial**  \n",
    "   Write a function that calculates the factorial of a number.  \n",
    "   **Hint 1:** Factorial of 0 is 1.  \n",
    "   **Hint 2:** A recursive function can be helpful here.\n",
    "\n",
    "7. **Find the Longest Word**  \n",
    "   Write a function that returns the longest word in a sentence.  \n",
    "   **Hint 1:** You can split a sentence into words using spaces.  \n",
    "   **Hint 2:** Compare the length of words to find the longest one.\n",
    "\n",
    "8. **Merge Two Sorted Arrays**  \n",
    "   Write a function to merge two sorted arrays into one.  \n",
    "   **Hint 1:** Combine the arrays and then sort them.  \n",
    "   **Hint 2:** Look for Python’s built-in sorting tools.\n",
    "\n",
    "9. **Remove Duplicates from an Array**  \n",
    "   Write a function to remove duplicates from an array.  \n",
    "   **Hint 1:** Each element should appear only once in the result.  \n",
    "   **Hint 2:** Consider using Python’s `set` data type.\n",
    "\n",
    "10. **Find Pairs that Sum to Target**  \n",
    "    Write a function to find all unique pairs in an array that sum to a target.  \n",
    "    **Hint 1:** For each element, look for another that completes the target sum.  \n",
    "    **Hint 2:** Track visited elements in a set to avoid duplicates.\n",
    "\n",
    "11. **Binary Search**  \n",
    "    Write a binary search function to find the index of a target in a sorted array.  \n",
    "    **Hint 1:** Split the array into halves and check the middle value.  \n",
    "    **Hint 2:** Recursion or loops can help narrow down the search range."
   ]
  },
  {
   "cell_type": "markdown",
   "metadata": {},
   "source": []
  }
 ],
 "metadata": {
  "language_info": {
   "name": "python"
  }
 },
 "nbformat": 4,
 "nbformat_minor": 2
}
