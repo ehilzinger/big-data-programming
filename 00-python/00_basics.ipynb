{
 "cells": [
  {
   "cell_type": "markdown",
   "metadata": {},
   "source": [
    "## Einführung in Python\n",
    "\n",
    "In diesem Notebook werden wir die Grundlagen von Python durchgehen. Python ist eine leicht erlernbare und vielseitige Programmiersprache, die in vielen Bereichen der Informatik und Datenverarbeitung verwendet wird."
   ]
  },
  {
   "cell_type": "markdown",
   "metadata": {},
   "source": [
    "## 1. Python als Taschenrechner\n",
    "\n",
    "Zunächst können wir Python als Taschenrechner verwenden. Probieren Sie es selbst aus!"
   ]
  },
  {
   "cell_type": "code",
   "execution_count": null,
   "metadata": {
    "vscode": {
     "languageId": "plaintext"
    }
   },
   "outputs": [],
   "source": [
    "# Addition\n",
    "3 + 5\n",
    "\n",
    "# Subtraktion\n",
    "10 - 4\n",
    "\n",
    "# Multiplikation\n",
    "6 * 7\n",
    "\n",
    "# Division\n",
    "10 / 3\n",
    "\n",
    "# Potenz\n",
    "2 ** 3"
   ]
  },
  {
   "cell_type": "markdown",
   "metadata": {},
   "source": [
    "### Übung:\n",
    "Berechnen Sie den Rest der Division 19 durch 4."
   ]
  },
  {
   "cell_type": "code",
   "execution_count": null,
   "metadata": {
    "vscode": {
     "languageId": "plaintext"
    }
   },
   "outputs": [],
   "source": [
    "# Ihre Lösung hier\n"
   ]
  },
  {
   "cell_type": "markdown",
   "metadata": {},
   "source": [
    "## 2. Variablen und Datentypen\n",
    "\n",
    "Variablen in Python müssen nicht deklariert werden. Sie können Zahlen, Zeichenketten, Listen und vieles mehr speichern."
   ]
  },
  {
   "cell_type": "code",
   "execution_count": null,
   "metadata": {
    "vscode": {
     "languageId": "plaintext"
    }
   },
   "outputs": [],
   "source": [
    "# Ganze Zahl\n",
    "a = 5\n",
    "\n",
    "# Fließkommazahl\n",
    "b = 3.14\n",
    "\n",
    "# Zeichenkette (String)\n",
    "c = \"Hallo, Welt!\"\n",
    "\n",
    "# Liste\n",
    "d = [1, 2, 3, 4, 5]\n"
   ]
  },
  {
   "cell_type": "markdown",
   "metadata": {},
   "source": [
    "### Übung:\n",
    "Erstellen Sie eine Variable, die Ihren Namen speichert, und eine andere Variable, die Ihr Alter speichert."
   ]
  },
  {
   "cell_type": "code",
   "execution_count": null,
   "metadata": {
    "vscode": {
     "languageId": "plaintext"
    }
   },
   "outputs": [],
   "source": [
    "# Ihre Lösung hier\n"
   ]
  },
  {
   "cell_type": "markdown",
   "metadata": {
    "vscode": {
     "languageId": "plaintext"
    }
   },
   "source": [
    "## 3. Bedingte Anweisungen (if-else)\n",
    "\n",
    "Mit if, elif und else können wir Entscheidungen in unserem Code treffen."
   ]
  },
  {
   "cell_type": "code",
   "execution_count": null,
   "metadata": {
    "vscode": {
     "languageId": "plaintext"
    }
   },
   "outputs": [],
   "source": [
    "x = 10\n",
    "if x > 5:\n",
    "    print(\"x ist größer als 5\")\n",
    "elif x == 5:\n",
    "    print(\"x ist gleich 5\")\n",
    "else:\n",
    "    print(\"x ist kleiner als 5\")\n"
   ]
  },
  {
   "cell_type": "markdown",
   "metadata": {
    "vscode": {
     "languageId": "plaintext"
    }
   },
   "source": [
    "### Übung:\n",
    "Schreiben Sie ein Programm, das prüft, ob eine Zahl positiv, negativ oder null ist."
   ]
  },
  {
   "cell_type": "code",
   "execution_count": null,
   "metadata": {
    "vscode": {
     "languageId": "plaintext"
    }
   },
   "outputs": [],
   "source": [
    "# Ihre Lösung hier\n"
   ]
  },
  {
   "cell_type": "markdown",
   "metadata": {},
   "source": [
    "## 4. Schleifen (for, while)\n",
    "\n",
    "Schleifen ermöglichen es uns, eine Aktion wiederholt auszuführen.\n",
    "\n",
    "For-Schleife:"
   ]
  },
  {
   "cell_type": "markdown",
   "metadata": {},
   "source": [
    "for i in range(5):\n",
    "    print(i)\n"
   ]
  },
  {
   "cell_type": "markdown",
   "metadata": {},
   "source": [
    "While-Schleife:"
   ]
  },
  {
   "cell_type": "markdown",
   "metadata": {},
   "source": [
    "x = 0\n",
    "while x < 5:\n",
    "    print(x)\n",
    "    x += 1\n"
   ]
  },
  {
   "cell_type": "markdown",
   "metadata": {},
   "source": [
    "### Übung:\n",
    "Schreiben Sie eine Schleife, die die Zahlen von 1 bis 10 ausgibt.\n",
    "\n"
   ]
  },
  {
   "cell_type": "markdown",
   "metadata": {},
   "source": [
    "## 5. Funktionen\n",
    "\n",
    "Funktionen helfen uns, Code wiederzuverwenden und logische Blöcke zu erstellen."
   ]
  },
  {
   "cell_type": "code",
   "execution_count": null,
   "metadata": {
    "vscode": {
     "languageId": "plaintext"
    }
   },
   "outputs": [],
   "source": [
    "def hallo_welt():\n",
    "    print(\"Hallo, Welt!\")\n",
    "\n",
    "hallo_welt()\n"
   ]
  },
  {
   "cell_type": "markdown",
   "metadata": {},
   "source": [
    "### Übung:\n",
    "Schreiben Sie eine Funktion addiere, die zwei Zahlen als Argumente erhält und ihre Summe zurückgibt."
   ]
  },
  {
   "cell_type": "code",
   "execution_count": null,
   "metadata": {
    "vscode": {
     "languageId": "plaintext"
    }
   },
   "outputs": [],
   "source": []
  },
  {
   "cell_type": "markdown",
   "metadata": {
    "vscode": {
     "languageId": "plaintext"
    }
   },
   "source": [
    "## 6. Listen und ihre Manipulation\n",
    "\n",
    "Listen sind ein wichtiger Datentyp in Python. Sie können verschiedene Datentypen enthalten und leicht manipuliert werden."
   ]
  },
  {
   "cell_type": "code",
   "execution_count": null,
   "metadata": {
    "vscode": {
     "languageId": "plaintext"
    }
   },
   "outputs": [],
   "source": [
    "liste = [1, 2, 3, 4, 5]\n",
    "liste.append(6)\n",
    "print(liste)\n"
   ]
  },
  {
   "cell_type": "markdown",
   "metadata": {},
   "source": [
    "### Übung:\n",
    "Erstellen Sie eine Liste von 5 verschiedenen Städten und fügen Sie eine weitere Stadt hinzu."
   ]
  },
  {
   "cell_type": "code",
   "execution_count": null,
   "metadata": {
    "vscode": {
     "languageId": "plaintext"
    }
   },
   "outputs": [],
   "source": [
    "# Ihre Lösung hier\n"
   ]
  },
  {
   "cell_type": "markdown",
   "metadata": {},
   "source": [
    "## 7. Dictionaries (Wörterbücher)\n",
    "\n",
    "Dictionaries speichern Werte in Schlüssel-Wert-Paaren."
   ]
  },
  {
   "cell_type": "code",
   "execution_count": null,
   "metadata": {
    "vscode": {
     "languageId": "plaintext"
    }
   },
   "outputs": [],
   "source": [
    "telefonbuch = {\"Max\": \"12345\", \"Anna\": \"67890\"}\n",
    "print(telefonbuch[\"Max\"])\n"
   ]
  },
  {
   "cell_type": "markdown",
   "metadata": {},
   "source": [
    "### Übung:\n",
    "Erstellen Sie ein Dictionary, das die Namen von 3 Freunden und deren Telefonnummern speichert."
   ]
  },
  {
   "cell_type": "code",
   "execution_count": null,
   "metadata": {
    "vscode": {
     "languageId": "plaintext"
    }
   },
   "outputs": [],
   "source": []
  }
 ],
 "metadata": {
  "language_info": {
   "name": "python"
  }
 },
 "nbformat": 4,
 "nbformat_minor": 2
}
